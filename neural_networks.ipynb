{
 "cells": [
  {
   "cell_type": "markdown",
   "metadata": {
    "id": "Oyb_RNpFreOr"
   },
   "source": [
    "# Neural Networks #\n"
   ]
  },
  {
   "cell_type": "code",
   "execution_count": 3,
   "metadata": {
    "id": "yj9Uh79ereOs"
   },
   "outputs": [],
   "source": [
    "import pandas as pd\n",
    "from sklearn.neural_network import MLPClassifier\n",
    "from sklearn.svm import SVC\n",
    "\n",
    "from sklearn.preprocessing import StandardScaler, MinMaxScaler\n",
    "from sklearn.preprocessing import LabelEncoder, OneHotEncoder\n",
    "from sklearn.feature_extraction import DictVectorizer\n",
    "\n",
    "from sklearn.pipeline import Pipeline\n",
    "from sklearn.metrics import accuracy_score\n",
    "from sklearn.model_selection import train_test_split\n",
    "from sklearn.model_selection import GridSearchCV, ParameterGrid\n",
    "\n",
    "import numpy as np\n",
    "\n",
    "import warnings\n",
    "warnings.filterwarnings(\"ignore\")"
   ]
  },
  {
   "cell_type": "code",
   "execution_count": 4,
   "metadata": {
    "colab": {
     "base_uri": "https://localhost:8080/",
     "height": 636
    },
    "id": "n6SRFrhfreOt",
    "outputId": "5cfb0a51-5ecb-4856-9157-3e2687638fbb"
   },
   "outputs": [
    {
     "name": "stdout",
     "output_type": "stream",
     "text": [
      "--2024-10-02 03:42:25--  http://quadro.ist.berkeley.edu:1331/lab_4_training.csv\n",
      "Resolving quadro.ist.berkeley.edu (quadro.ist.berkeley.edu)... 169.229.194.98\n",
      "Connecting to quadro.ist.berkeley.edu (quadro.ist.berkeley.edu)|169.229.194.98|:1331... connected.\n",
      "HTTP request sent, awaiting response... 200 OK\n",
      "Length: 79177 (77K) [text/csv]\n",
      "Saving to: ‘lab_4_training.csv’\n",
      "\n",
      "lab_4_training.csv  100%[===================>]  77.32K  --.-KB/s    in 0.1s    \n",
      "\n",
      "2024-10-02 03:42:25 (773 KB/s) - ‘lab_4_training.csv’ saved [79177/79177]\n",
      "\n",
      "--2024-10-02 03:42:25--  http://quadro.ist.berkeley.edu:1331/lab_4_test.csv\n",
      "Resolving quadro.ist.berkeley.edu (quadro.ist.berkeley.edu)... 169.229.194.98\n",
      "Connecting to quadro.ist.berkeley.edu (quadro.ist.berkeley.edu)|169.229.194.98|:1331... connected.\n",
      "HTTP request sent, awaiting response... 200 OK\n",
      "Length: 26519 (26K) [text/csv]\n",
      "Saving to: ‘lab_4_test.csv’\n",
      "\n",
      "lab_4_test.csv      100%[===================>]  25.90K  --.-KB/s    in 0.05s   \n",
      "\n",
      "2024-10-02 03:42:25 (529 KB/s) - ‘lab_4_test.csv’ saved [26519/26519]\n",
      "\n"
     ]
    },
    {
     "data": {
      "application/vnd.google.colaboratory.intrinsic+json": {
       "summary": "{\n  \"name\": \"df_train\",\n  \"rows\": 1192,\n  \"fields\": [\n    {\n      \"column\": \"Unnamed: 0\",\n      \"properties\": {\n        \"dtype\": \"number\",\n        \"std\": 597,\n        \"min\": 0,\n        \"max\": 2065,\n        \"num_unique_values\": 1192,\n        \"samples\": [\n          1623,\n          55,\n          2062\n        ],\n        \"semantic_type\": \"\",\n        \"description\": \"\"\n      }\n    },\n    {\n      \"column\": \"gender\",\n      \"properties\": {\n        \"dtype\": \"category\",\n        \"num_unique_values\": 2,\n        \"samples\": [\n          \"female\",\n          \"male\"\n        ],\n        \"semantic_type\": \"\",\n        \"description\": \"\"\n      }\n    },\n    {\n      \"column\": \"age\",\n      \"properties\": {\n        \"dtype\": \"number\",\n        \"std\": 2,\n        \"min\": 17,\n        \"max\": 56,\n        \"num_unique_values\": 25,\n        \"samples\": [\n          29,\n          41\n        ],\n        \"semantic_type\": \"\",\n        \"description\": \"\"\n      }\n    },\n    {\n      \"column\": \"year\",\n      \"properties\": {\n        \"dtype\": \"category\",\n        \"num_unique_values\": 5,\n        \"samples\": [\n          \"second\",\n          \"other\"\n        ],\n        \"semantic_type\": \"\",\n        \"description\": \"\"\n      }\n    },\n    {\n      \"column\": \"eyecolor\",\n      \"properties\": {\n        \"dtype\": \"category\",\n        \"num_unique_values\": 5,\n        \"samples\": [\n          \"brown\",\n          \"other\"\n        ],\n        \"semantic_type\": \"\",\n        \"description\": \"\"\n      }\n    },\n    {\n      \"column\": \"height\",\n      \"properties\": {\n        \"dtype\": \"number\",\n        \"std\": 4.25510014841722,\n        \"min\": 52.0,\n        \"max\": 85.0,\n        \"num_unique_values\": 28,\n        \"samples\": [\n          62.0,\n          80.0\n        ],\n        \"semantic_type\": \"\",\n        \"description\": \"\"\n      }\n    },\n    {\n      \"column\": \"miles\",\n      \"properties\": {\n        \"dtype\": \"number\",\n        \"std\": 1181.540474027558,\n        \"min\": 0.0,\n        \"max\": 25000.0,\n        \"num_unique_values\": 242,\n        \"samples\": [\n          165.0,\n          50.0\n        ],\n        \"semantic_type\": \"\",\n        \"description\": \"\"\n      }\n    },\n    {\n      \"column\": \"brothers\",\n      \"properties\": {\n        \"dtype\": \"number\",\n        \"std\": 1,\n        \"min\": 0,\n        \"max\": 6,\n        \"num_unique_values\": 7,\n        \"samples\": [\n          0,\n          1\n        ],\n        \"semantic_type\": \"\",\n        \"description\": \"\"\n      }\n    },\n    {\n      \"column\": \"sisters\",\n      \"properties\": {\n        \"dtype\": \"number\",\n        \"std\": 1,\n        \"min\": 0,\n        \"max\": 7,\n        \"num_unique_values\": 8,\n        \"samples\": [\n          1,\n          5\n        ],\n        \"semantic_type\": \"\",\n        \"description\": \"\"\n      }\n    },\n    {\n      \"column\": \"computertime\",\n      \"properties\": {\n        \"dtype\": \"number\",\n        \"std\": 11.212570048660494,\n        \"min\": 0.0,\n        \"max\": 100.0,\n        \"num_unique_values\": 55,\n        \"samples\": [\n          7.5,\n          2.0\n        ],\n        \"semantic_type\": \"\",\n        \"description\": \"\"\n      }\n    },\n    {\n      \"column\": \"exercise\",\n      \"properties\": {\n        \"dtype\": \"category\",\n        \"num_unique_values\": 2,\n        \"samples\": [\n          \"Yes\",\n          \"No\"\n        ],\n        \"semantic_type\": \"\",\n        \"description\": \"\"\n      }\n    },\n    {\n      \"column\": \"exercisehours\",\n      \"properties\": {\n        \"dtype\": \"number\",\n        \"std\": 4.359416005322292,\n        \"min\": 0.0,\n        \"max\": 45.0,\n        \"num_unique_values\": 34,\n        \"samples\": [\n          18.0,\n          20.0\n        ],\n        \"semantic_type\": \"\",\n        \"description\": \"\"\n      }\n    },\n    {\n      \"column\": \"musiccds\",\n      \"properties\": {\n        \"dtype\": \"number\",\n        \"std\": 118.20786339594753,\n        \"min\": 0.0,\n        \"max\": 1500.0,\n        \"num_unique_values\": 114,\n        \"samples\": [\n          350.0,\n          164.0\n        ],\n        \"semantic_type\": \"\",\n        \"description\": \"\"\n      }\n    },\n    {\n      \"column\": \"playgames\",\n      \"properties\": {\n        \"dtype\": \"number\",\n        \"std\": 5.339257376557869,\n        \"min\": 0.0,\n        \"max\": 45.0,\n        \"num_unique_values\": 32,\n        \"samples\": [\n          36.0,\n          24.0\n        ],\n        \"semantic_type\": \"\",\n        \"description\": \"\"\n      }\n    },\n    {\n      \"column\": \"watchtv\",\n      \"properties\": {\n        \"dtype\": \"number\",\n        \"std\": 8.699229240640193,\n        \"min\": 0.0,\n        \"max\": 100.0,\n        \"num_unique_values\": 48,\n        \"samples\": [\n          35.0,\n          0.5\n        ],\n        \"semantic_type\": \"\",\n        \"description\": \"\"\n      }\n    }\n  ]\n}",
       "type": "dataframe",
       "variable_name": "df_train"
      },
      "text/html": [
       "\n",
       "  <div id=\"df-d979e457-4347-4aa1-a856-af8cdfbc1d7a\" class=\"colab-df-container\">\n",
       "    <div>\n",
       "<style scoped>\n",
       "    .dataframe tbody tr th:only-of-type {\n",
       "        vertical-align: middle;\n",
       "    }\n",
       "\n",
       "    .dataframe tbody tr th {\n",
       "        vertical-align: top;\n",
       "    }\n",
       "\n",
       "    .dataframe thead th {\n",
       "        text-align: right;\n",
       "    }\n",
       "</style>\n",
       "<table border=\"1\" class=\"dataframe\">\n",
       "  <thead>\n",
       "    <tr style=\"text-align: right;\">\n",
       "      <th></th>\n",
       "      <th>Unnamed: 0</th>\n",
       "      <th>gender</th>\n",
       "      <th>age</th>\n",
       "      <th>year</th>\n",
       "      <th>eyecolor</th>\n",
       "      <th>height</th>\n",
       "      <th>miles</th>\n",
       "      <th>brothers</th>\n",
       "      <th>sisters</th>\n",
       "      <th>computertime</th>\n",
       "      <th>exercise</th>\n",
       "      <th>exercisehours</th>\n",
       "      <th>musiccds</th>\n",
       "      <th>playgames</th>\n",
       "      <th>watchtv</th>\n",
       "    </tr>\n",
       "  </thead>\n",
       "  <tbody>\n",
       "    <tr>\n",
       "      <th>0</th>\n",
       "      <td>577</td>\n",
       "      <td>male</td>\n",
       "      <td>20</td>\n",
       "      <td>third</td>\n",
       "      <td>hazel</td>\n",
       "      <td>72.0</td>\n",
       "      <td>180.0</td>\n",
       "      <td>0</td>\n",
       "      <td>0</td>\n",
       "      <td>5.0</td>\n",
       "      <td>No</td>\n",
       "      <td>0.0</td>\n",
       "      <td>100.0</td>\n",
       "      <td>10.0</td>\n",
       "      <td>10.0</td>\n",
       "    </tr>\n",
       "    <tr>\n",
       "      <th>1</th>\n",
       "      <td>677</td>\n",
       "      <td>male</td>\n",
       "      <td>19</td>\n",
       "      <td>second</td>\n",
       "      <td>hazel</td>\n",
       "      <td>72.0</td>\n",
       "      <td>120.0</td>\n",
       "      <td>1</td>\n",
       "      <td>1</td>\n",
       "      <td>16.0</td>\n",
       "      <td>Yes</td>\n",
       "      <td>9.0</td>\n",
       "      <td>70.0</td>\n",
       "      <td>3.0</td>\n",
       "      <td>5.0</td>\n",
       "    </tr>\n",
       "    <tr>\n",
       "      <th>2</th>\n",
       "      <td>1738</td>\n",
       "      <td>male</td>\n",
       "      <td>20</td>\n",
       "      <td>second</td>\n",
       "      <td>brown</td>\n",
       "      <td>63.0</td>\n",
       "      <td>55.0</td>\n",
       "      <td>1</td>\n",
       "      <td>2</td>\n",
       "      <td>15.0</td>\n",
       "      <td>Yes</td>\n",
       "      <td>4.5</td>\n",
       "      <td>15.0</td>\n",
       "      <td>4.0</td>\n",
       "      <td>13.0</td>\n",
       "    </tr>\n",
       "    <tr>\n",
       "      <th>3</th>\n",
       "      <td>1355</td>\n",
       "      <td>male</td>\n",
       "      <td>20</td>\n",
       "      <td>third</td>\n",
       "      <td>green</td>\n",
       "      <td>78.0</td>\n",
       "      <td>200.0</td>\n",
       "      <td>0</td>\n",
       "      <td>0</td>\n",
       "      <td>10.0</td>\n",
       "      <td>Yes</td>\n",
       "      <td>9.0</td>\n",
       "      <td>20.0</td>\n",
       "      <td>10.0</td>\n",
       "      <td>10.0</td>\n",
       "    </tr>\n",
       "    <tr>\n",
       "      <th>4</th>\n",
       "      <td>891</td>\n",
       "      <td>female</td>\n",
       "      <td>19</td>\n",
       "      <td>second</td>\n",
       "      <td>green</td>\n",
       "      <td>67.0</td>\n",
       "      <td>280.0</td>\n",
       "      <td>2</td>\n",
       "      <td>0</td>\n",
       "      <td>4.0</td>\n",
       "      <td>Yes</td>\n",
       "      <td>2.0</td>\n",
       "      <td>164.0</td>\n",
       "      <td>0.0</td>\n",
       "      <td>2.0</td>\n",
       "    </tr>\n",
       "  </tbody>\n",
       "</table>\n",
       "</div>\n",
       "    <div class=\"colab-df-buttons\">\n",
       "\n",
       "  <div class=\"colab-df-container\">\n",
       "    <button class=\"colab-df-convert\" onclick=\"convertToInteractive('df-d979e457-4347-4aa1-a856-af8cdfbc1d7a')\"\n",
       "            title=\"Convert this dataframe to an interactive table.\"\n",
       "            style=\"display:none;\">\n",
       "\n",
       "  <svg xmlns=\"http://www.w3.org/2000/svg\" height=\"24px\" viewBox=\"0 -960 960 960\">\n",
       "    <path d=\"M120-120v-720h720v720H120Zm60-500h600v-160H180v160Zm220 220h160v-160H400v160Zm0 220h160v-160H400v160ZM180-400h160v-160H180v160Zm440 0h160v-160H620v160ZM180-180h160v-160H180v160Zm440 0h160v-160H620v160Z\"/>\n",
       "  </svg>\n",
       "    </button>\n",
       "\n",
       "  <style>\n",
       "    .colab-df-container {\n",
       "      display:flex;\n",
       "      gap: 12px;\n",
       "    }\n",
       "\n",
       "    .colab-df-convert {\n",
       "      background-color: #E8F0FE;\n",
       "      border: none;\n",
       "      border-radius: 50%;\n",
       "      cursor: pointer;\n",
       "      display: none;\n",
       "      fill: #1967D2;\n",
       "      height: 32px;\n",
       "      padding: 0 0 0 0;\n",
       "      width: 32px;\n",
       "    }\n",
       "\n",
       "    .colab-df-convert:hover {\n",
       "      background-color: #E2EBFA;\n",
       "      box-shadow: 0px 1px 2px rgba(60, 64, 67, 0.3), 0px 1px 3px 1px rgba(60, 64, 67, 0.15);\n",
       "      fill: #174EA6;\n",
       "    }\n",
       "\n",
       "    .colab-df-buttons div {\n",
       "      margin-bottom: 4px;\n",
       "    }\n",
       "\n",
       "    [theme=dark] .colab-df-convert {\n",
       "      background-color: #3B4455;\n",
       "      fill: #D2E3FC;\n",
       "    }\n",
       "\n",
       "    [theme=dark] .colab-df-convert:hover {\n",
       "      background-color: #434B5C;\n",
       "      box-shadow: 0px 1px 3px 1px rgba(0, 0, 0, 0.15);\n",
       "      filter: drop-shadow(0px 1px 2px rgba(0, 0, 0, 0.3));\n",
       "      fill: #FFFFFF;\n",
       "    }\n",
       "  </style>\n",
       "\n",
       "    <script>\n",
       "      const buttonEl =\n",
       "        document.querySelector('#df-d979e457-4347-4aa1-a856-af8cdfbc1d7a button.colab-df-convert');\n",
       "      buttonEl.style.display =\n",
       "        google.colab.kernel.accessAllowed ? 'block' : 'none';\n",
       "\n",
       "      async function convertToInteractive(key) {\n",
       "        const element = document.querySelector('#df-d979e457-4347-4aa1-a856-af8cdfbc1d7a');\n",
       "        const dataTable =\n",
       "          await google.colab.kernel.invokeFunction('convertToInteractive',\n",
       "                                                    [key], {});\n",
       "        if (!dataTable) return;\n",
       "\n",
       "        const docLinkHtml = 'Like what you see? Visit the ' +\n",
       "          '<a target=\"_blank\" href=https://colab.research.google.com/notebooks/data_table.ipynb>data table notebook</a>'\n",
       "          + ' to learn more about interactive tables.';\n",
       "        element.innerHTML = '';\n",
       "        dataTable['output_type'] = 'display_data';\n",
       "        await google.colab.output.renderOutput(dataTable, element);\n",
       "        const docLink = document.createElement('div');\n",
       "        docLink.innerHTML = docLinkHtml;\n",
       "        element.appendChild(docLink);\n",
       "      }\n",
       "    </script>\n",
       "  </div>\n",
       "\n",
       "\n",
       "<div id=\"df-414ff53b-b5d0-4386-94e1-0ec9b64476af\">\n",
       "  <button class=\"colab-df-quickchart\" onclick=\"quickchart('df-414ff53b-b5d0-4386-94e1-0ec9b64476af')\"\n",
       "            title=\"Suggest charts\"\n",
       "            style=\"display:none;\">\n",
       "\n",
       "<svg xmlns=\"http://www.w3.org/2000/svg\" height=\"24px\"viewBox=\"0 0 24 24\"\n",
       "     width=\"24px\">\n",
       "    <g>\n",
       "        <path d=\"M19 3H5c-1.1 0-2 .9-2 2v14c0 1.1.9 2 2 2h14c1.1 0 2-.9 2-2V5c0-1.1-.9-2-2-2zM9 17H7v-7h2v7zm4 0h-2V7h2v10zm4 0h-2v-4h2v4z\"/>\n",
       "    </g>\n",
       "</svg>\n",
       "  </button>\n",
       "\n",
       "<style>\n",
       "  .colab-df-quickchart {\n",
       "      --bg-color: #E8F0FE;\n",
       "      --fill-color: #1967D2;\n",
       "      --hover-bg-color: #E2EBFA;\n",
       "      --hover-fill-color: #174EA6;\n",
       "      --disabled-fill-color: #AAA;\n",
       "      --disabled-bg-color: #DDD;\n",
       "  }\n",
       "\n",
       "  [theme=dark] .colab-df-quickchart {\n",
       "      --bg-color: #3B4455;\n",
       "      --fill-color: #D2E3FC;\n",
       "      --hover-bg-color: #434B5C;\n",
       "      --hover-fill-color: #FFFFFF;\n",
       "      --disabled-bg-color: #3B4455;\n",
       "      --disabled-fill-color: #666;\n",
       "  }\n",
       "\n",
       "  .colab-df-quickchart {\n",
       "    background-color: var(--bg-color);\n",
       "    border: none;\n",
       "    border-radius: 50%;\n",
       "    cursor: pointer;\n",
       "    display: none;\n",
       "    fill: var(--fill-color);\n",
       "    height: 32px;\n",
       "    padding: 0;\n",
       "    width: 32px;\n",
       "  }\n",
       "\n",
       "  .colab-df-quickchart:hover {\n",
       "    background-color: var(--hover-bg-color);\n",
       "    box-shadow: 0 1px 2px rgba(60, 64, 67, 0.3), 0 1px 3px 1px rgba(60, 64, 67, 0.15);\n",
       "    fill: var(--button-hover-fill-color);\n",
       "  }\n",
       "\n",
       "  .colab-df-quickchart-complete:disabled,\n",
       "  .colab-df-quickchart-complete:disabled:hover {\n",
       "    background-color: var(--disabled-bg-color);\n",
       "    fill: var(--disabled-fill-color);\n",
       "    box-shadow: none;\n",
       "  }\n",
       "\n",
       "  .colab-df-spinner {\n",
       "    border: 2px solid var(--fill-color);\n",
       "    border-color: transparent;\n",
       "    border-bottom-color: var(--fill-color);\n",
       "    animation:\n",
       "      spin 1s steps(1) infinite;\n",
       "  }\n",
       "\n",
       "  @keyframes spin {\n",
       "    0% {\n",
       "      border-color: transparent;\n",
       "      border-bottom-color: var(--fill-color);\n",
       "      border-left-color: var(--fill-color);\n",
       "    }\n",
       "    20% {\n",
       "      border-color: transparent;\n",
       "      border-left-color: var(--fill-color);\n",
       "      border-top-color: var(--fill-color);\n",
       "    }\n",
       "    30% {\n",
       "      border-color: transparent;\n",
       "      border-left-color: var(--fill-color);\n",
       "      border-top-color: var(--fill-color);\n",
       "      border-right-color: var(--fill-color);\n",
       "    }\n",
       "    40% {\n",
       "      border-color: transparent;\n",
       "      border-right-color: var(--fill-color);\n",
       "      border-top-color: var(--fill-color);\n",
       "    }\n",
       "    60% {\n",
       "      border-color: transparent;\n",
       "      border-right-color: var(--fill-color);\n",
       "    }\n",
       "    80% {\n",
       "      border-color: transparent;\n",
       "      border-right-color: var(--fill-color);\n",
       "      border-bottom-color: var(--fill-color);\n",
       "    }\n",
       "    90% {\n",
       "      border-color: transparent;\n",
       "      border-bottom-color: var(--fill-color);\n",
       "    }\n",
       "  }\n",
       "</style>\n",
       "\n",
       "  <script>\n",
       "    async function quickchart(key) {\n",
       "      const quickchartButtonEl =\n",
       "        document.querySelector('#' + key + ' button');\n",
       "      quickchartButtonEl.disabled = true;  // To prevent multiple clicks.\n",
       "      quickchartButtonEl.classList.add('colab-df-spinner');\n",
       "      try {\n",
       "        const charts = await google.colab.kernel.invokeFunction(\n",
       "            'suggestCharts', [key], {});\n",
       "      } catch (error) {\n",
       "        console.error('Error during call to suggestCharts:', error);\n",
       "      }\n",
       "      quickchartButtonEl.classList.remove('colab-df-spinner');\n",
       "      quickchartButtonEl.classList.add('colab-df-quickchart-complete');\n",
       "    }\n",
       "    (() => {\n",
       "      let quickchartButtonEl =\n",
       "        document.querySelector('#df-414ff53b-b5d0-4386-94e1-0ec9b64476af button');\n",
       "      quickchartButtonEl.style.display =\n",
       "        google.colab.kernel.accessAllowed ? 'block' : 'none';\n",
       "    })();\n",
       "  </script>\n",
       "</div>\n",
       "\n",
       "    </div>\n",
       "  </div>\n"
      ],
      "text/plain": [
       "   Unnamed: 0  gender  age    year eyecolor  height  miles  brothers  sisters  \\\n",
       "0         577    male   20   third    hazel    72.0  180.0         0        0   \n",
       "1         677    male   19  second    hazel    72.0  120.0         1        1   \n",
       "2        1738    male   20  second    brown    63.0   55.0         1        2   \n",
       "3        1355    male   20   third    green    78.0  200.0         0        0   \n",
       "4         891  female   19  second    green    67.0  280.0         2        0   \n",
       "\n",
       "   computertime exercise  exercisehours  musiccds  playgames  watchtv  \n",
       "0           5.0       No            0.0     100.0       10.0     10.0  \n",
       "1          16.0      Yes            9.0      70.0        3.0      5.0  \n",
       "2          15.0      Yes            4.5      15.0        4.0     13.0  \n",
       "3          10.0      Yes            9.0      20.0       10.0     10.0  \n",
       "4           4.0      Yes            2.0     164.0        0.0      2.0  "
      ]
     },
     "execution_count": 4,
     "metadata": {},
     "output_type": "execute_result"
    }
   ],
   "source": [
    "!wget -nc http://quadro.ist.berkeley.edu:1331/lab_4_training.csv\n",
    "!wget -nc http://quadro.ist.berkeley.edu:1331/lab_4_test.csv\n",
    "\n",
    "df_train = pd.read_csv('./lab_4_training.csv')\n",
    "df_test = pd.read_csv('./lab_4_test.csv')\n",
    "df_train.head()"
   ]
  },
  {
   "cell_type": "code",
   "execution_count": 5,
   "metadata": {
    "colab": {
     "base_uri": "https://localhost:8080/",
     "height": 244
    },
    "id": "GowXG5FncrPD",
    "outputId": "5e9ff77c-ba2c-4520-e1aa-21fb363050fc"
   },
   "outputs": [
    {
     "data": {
      "application/vnd.google.colaboratory.intrinsic+json": {
       "summary": "{\n  \"name\": \"df_test\",\n  \"rows\": 398,\n  \"fields\": [\n    {\n      \"column\": \"Unnamed: 0\",\n      \"properties\": {\n        \"dtype\": \"number\",\n        \"std\": 593,\n        \"min\": 11,\n        \"max\": 2067,\n        \"num_unique_values\": 398,\n        \"samples\": [\n          100,\n          1523,\n          1596\n        ],\n        \"semantic_type\": \"\",\n        \"description\": \"\"\n      }\n    },\n    {\n      \"column\": \"gender\",\n      \"properties\": {\n        \"dtype\": \"category\",\n        \"num_unique_values\": 2,\n        \"samples\": [\n          \"female\",\n          \"male\"\n        ],\n        \"semantic_type\": \"\",\n        \"description\": \"\"\n      }\n    },\n    {\n      \"column\": \"age\",\n      \"properties\": {\n        \"dtype\": \"number\",\n        \"std\": 2,\n        \"min\": 17,\n        \"max\": 50,\n        \"num_unique_values\": 18,\n        \"samples\": [\n          20,\n          22\n        ],\n        \"semantic_type\": \"\",\n        \"description\": \"\"\n      }\n    },\n    {\n      \"column\": \"year\",\n      \"properties\": {\n        \"dtype\": \"category\",\n        \"num_unique_values\": 5,\n        \"samples\": [\n          \"third\",\n          \"first\"\n        ],\n        \"semantic_type\": \"\",\n        \"description\": \"\"\n      }\n    },\n    {\n      \"column\": \"eyecolor\",\n      \"properties\": {\n        \"dtype\": \"category\",\n        \"num_unique_values\": 5,\n        \"samples\": [\n          \"other\",\n          \"blue\"\n        ],\n        \"semantic_type\": \"\",\n        \"description\": \"\"\n      }\n    },\n    {\n      \"column\": \"height\",\n      \"properties\": {\n        \"dtype\": \"number\",\n        \"std\": 4.248639167383931,\n        \"min\": 44.0,\n        \"max\": 79.0,\n        \"num_unique_values\": 24,\n        \"samples\": [\n          76.0,\n          63.0\n        ],\n        \"semantic_type\": \"\",\n        \"description\": \"\"\n      }\n    },\n    {\n      \"column\": \"miles\",\n      \"properties\": {\n        \"dtype\": \"number\",\n        \"std\": 1102.8175557809925,\n        \"min\": 0.0,\n        \"max\": 10200.0,\n        \"num_unique_values\": 139,\n        \"samples\": [\n          211.0,\n          76.0\n        ],\n        \"semantic_type\": \"\",\n        \"description\": \"\"\n      }\n    },\n    {\n      \"column\": \"brothers\",\n      \"properties\": {\n        \"dtype\": \"number\",\n        \"std\": 0,\n        \"min\": 0,\n        \"max\": 5,\n        \"num_unique_values\": 6,\n        \"samples\": [\n          0,\n          1\n        ],\n        \"semantic_type\": \"\",\n        \"description\": \"\"\n      }\n    },\n    {\n      \"column\": \"sisters\",\n      \"properties\": {\n        \"dtype\": \"number\",\n        \"std\": 0,\n        \"min\": 0,\n        \"max\": 4,\n        \"num_unique_values\": 5,\n        \"samples\": [\n          0,\n          4\n        ],\n        \"semantic_type\": \"\",\n        \"description\": \"\"\n      }\n    },\n    {\n      \"column\": \"computertime\",\n      \"properties\": {\n        \"dtype\": \"number\",\n        \"std\": 10.151481133619507,\n        \"min\": 0.0,\n        \"max\": 70.0,\n        \"num_unique_values\": 37,\n        \"samples\": [\n          35.0,\n          18.0\n        ],\n        \"semantic_type\": \"\",\n        \"description\": \"\"\n      }\n    },\n    {\n      \"column\": \"exercise\",\n      \"properties\": {\n        \"dtype\": \"category\",\n        \"num_unique_values\": 2,\n        \"samples\": [\n          \"No\",\n          \"Yes\"\n        ],\n        \"semantic_type\": \"\",\n        \"description\": \"\"\n      }\n    },\n    {\n      \"column\": \"exercisehours\",\n      \"properties\": {\n        \"dtype\": \"number\",\n        \"std\": 4.106634654496538,\n        \"min\": 0.0,\n        \"max\": 30.0,\n        \"num_unique_values\": 25,\n        \"samples\": [\n          17.0,\n          3.5\n        ],\n        \"semantic_type\": \"\",\n        \"description\": \"\"\n      }\n    },\n    {\n      \"column\": \"musiccds\",\n      \"properties\": {\n        \"dtype\": \"number\",\n        \"std\": 114.66123358020113,\n        \"min\": 0.0,\n        \"max\": 1000.0,\n        \"num_unique_values\": 73,\n        \"samples\": [\n          30.0,\n          56.0\n        ],\n        \"semantic_type\": \"\",\n        \"description\": \"\"\n      }\n    },\n    {\n      \"column\": \"playgames\",\n      \"properties\": {\n        \"dtype\": \"number\",\n        \"std\": 4.945732741187364,\n        \"min\": 0.0,\n        \"max\": 30.0,\n        \"num_unique_values\": 24,\n        \"samples\": [\n          12.0,\n          30.0\n        ],\n        \"semantic_type\": \"\",\n        \"description\": \"\"\n      }\n    },\n    {\n      \"column\": \"watchtv\",\n      \"properties\": {\n        \"dtype\": \"number\",\n        \"std\": 7.744624973434162,\n        \"min\": 0.0,\n        \"max\": 50.0,\n        \"num_unique_values\": 30,\n        \"samples\": [\n          19.0,\n          17.0\n        ],\n        \"semantic_type\": \"\",\n        \"description\": \"\"\n      }\n    }\n  ]\n}",
       "type": "dataframe",
       "variable_name": "df_test"
      },
      "text/html": [
       "\n",
       "  <div id=\"df-a562bb7d-cf69-492f-a406-72984fd60585\" class=\"colab-df-container\">\n",
       "    <div>\n",
       "<style scoped>\n",
       "    .dataframe tbody tr th:only-of-type {\n",
       "        vertical-align: middle;\n",
       "    }\n",
       "\n",
       "    .dataframe tbody tr th {\n",
       "        vertical-align: top;\n",
       "    }\n",
       "\n",
       "    .dataframe thead th {\n",
       "        text-align: right;\n",
       "    }\n",
       "</style>\n",
       "<table border=\"1\" class=\"dataframe\">\n",
       "  <thead>\n",
       "    <tr style=\"text-align: right;\">\n",
       "      <th></th>\n",
       "      <th>Unnamed: 0</th>\n",
       "      <th>gender</th>\n",
       "      <th>age</th>\n",
       "      <th>year</th>\n",
       "      <th>eyecolor</th>\n",
       "      <th>height</th>\n",
       "      <th>miles</th>\n",
       "      <th>brothers</th>\n",
       "      <th>sisters</th>\n",
       "      <th>computertime</th>\n",
       "      <th>exercise</th>\n",
       "      <th>exercisehours</th>\n",
       "      <th>musiccds</th>\n",
       "      <th>playgames</th>\n",
       "      <th>watchtv</th>\n",
       "    </tr>\n",
       "  </thead>\n",
       "  <tbody>\n",
       "    <tr>\n",
       "      <th>0</th>\n",
       "      <td>1303</td>\n",
       "      <td>male</td>\n",
       "      <td>20</td>\n",
       "      <td>second</td>\n",
       "      <td>green</td>\n",
       "      <td>73.0</td>\n",
       "      <td>210.0</td>\n",
       "      <td>0</td>\n",
       "      <td>1</td>\n",
       "      <td>10.0</td>\n",
       "      <td>Yes</td>\n",
       "      <td>5.0</td>\n",
       "      <td>50.0</td>\n",
       "      <td>1.0</td>\n",
       "      <td>15.0</td>\n",
       "    </tr>\n",
       "    <tr>\n",
       "      <th>1</th>\n",
       "      <td>36</td>\n",
       "      <td>male</td>\n",
       "      <td>20</td>\n",
       "      <td>third</td>\n",
       "      <td>other</td>\n",
       "      <td>71.0</td>\n",
       "      <td>90.0</td>\n",
       "      <td>1</td>\n",
       "      <td>0</td>\n",
       "      <td>15.0</td>\n",
       "      <td>Yes</td>\n",
       "      <td>4.0</td>\n",
       "      <td>10.0</td>\n",
       "      <td>0.0</td>\n",
       "      <td>1.0</td>\n",
       "    </tr>\n",
       "    <tr>\n",
       "      <th>2</th>\n",
       "      <td>489</td>\n",
       "      <td>male</td>\n",
       "      <td>22</td>\n",
       "      <td>fourth</td>\n",
       "      <td>hazel</td>\n",
       "      <td>75.0</td>\n",
       "      <td>200.0</td>\n",
       "      <td>0</td>\n",
       "      <td>1</td>\n",
       "      <td>1.0</td>\n",
       "      <td>Yes</td>\n",
       "      <td>2.0</td>\n",
       "      <td>150.0</td>\n",
       "      <td>1.0</td>\n",
       "      <td>10.0</td>\n",
       "    </tr>\n",
       "    <tr>\n",
       "      <th>3</th>\n",
       "      <td>1415</td>\n",
       "      <td>male</td>\n",
       "      <td>19</td>\n",
       "      <td>second</td>\n",
       "      <td>brown</td>\n",
       "      <td>72.0</td>\n",
       "      <td>35.0</td>\n",
       "      <td>2</td>\n",
       "      <td>2</td>\n",
       "      <td>20.0</td>\n",
       "      <td>Yes</td>\n",
       "      <td>5.0</td>\n",
       "      <td>100.0</td>\n",
       "      <td>0.0</td>\n",
       "      <td>7.0</td>\n",
       "    </tr>\n",
       "    <tr>\n",
       "      <th>4</th>\n",
       "      <td>616</td>\n",
       "      <td>male</td>\n",
       "      <td>22</td>\n",
       "      <td>fourth</td>\n",
       "      <td>hazel</td>\n",
       "      <td>71.0</td>\n",
       "      <td>15.0</td>\n",
       "      <td>2</td>\n",
       "      <td>1</td>\n",
       "      <td>10.0</td>\n",
       "      <td>Yes</td>\n",
       "      <td>7.0</td>\n",
       "      <td>10.0</td>\n",
       "      <td>0.0</td>\n",
       "      <td>5.0</td>\n",
       "    </tr>\n",
       "  </tbody>\n",
       "</table>\n",
       "</div>\n",
       "    <div class=\"colab-df-buttons\">\n",
       "\n",
       "  <div class=\"colab-df-container\">\n",
       "    <button class=\"colab-df-convert\" onclick=\"convertToInteractive('df-a562bb7d-cf69-492f-a406-72984fd60585')\"\n",
       "            title=\"Convert this dataframe to an interactive table.\"\n",
       "            style=\"display:none;\">\n",
       "\n",
       "  <svg xmlns=\"http://www.w3.org/2000/svg\" height=\"24px\" viewBox=\"0 -960 960 960\">\n",
       "    <path d=\"M120-120v-720h720v720H120Zm60-500h600v-160H180v160Zm220 220h160v-160H400v160Zm0 220h160v-160H400v160ZM180-400h160v-160H180v160Zm440 0h160v-160H620v160ZM180-180h160v-160H180v160Zm440 0h160v-160H620v160Z\"/>\n",
       "  </svg>\n",
       "    </button>\n",
       "\n",
       "  <style>\n",
       "    .colab-df-container {\n",
       "      display:flex;\n",
       "      gap: 12px;\n",
       "    }\n",
       "\n",
       "    .colab-df-convert {\n",
       "      background-color: #E8F0FE;\n",
       "      border: none;\n",
       "      border-radius: 50%;\n",
       "      cursor: pointer;\n",
       "      display: none;\n",
       "      fill: #1967D2;\n",
       "      height: 32px;\n",
       "      padding: 0 0 0 0;\n",
       "      width: 32px;\n",
       "    }\n",
       "\n",
       "    .colab-df-convert:hover {\n",
       "      background-color: #E2EBFA;\n",
       "      box-shadow: 0px 1px 2px rgba(60, 64, 67, 0.3), 0px 1px 3px 1px rgba(60, 64, 67, 0.15);\n",
       "      fill: #174EA6;\n",
       "    }\n",
       "\n",
       "    .colab-df-buttons div {\n",
       "      margin-bottom: 4px;\n",
       "    }\n",
       "\n",
       "    [theme=dark] .colab-df-convert {\n",
       "      background-color: #3B4455;\n",
       "      fill: #D2E3FC;\n",
       "    }\n",
       "\n",
       "    [theme=dark] .colab-df-convert:hover {\n",
       "      background-color: #434B5C;\n",
       "      box-shadow: 0px 1px 3px 1px rgba(0, 0, 0, 0.15);\n",
       "      filter: drop-shadow(0px 1px 2px rgba(0, 0, 0, 0.3));\n",
       "      fill: #FFFFFF;\n",
       "    }\n",
       "  </style>\n",
       "\n",
       "    <script>\n",
       "      const buttonEl =\n",
       "        document.querySelector('#df-a562bb7d-cf69-492f-a406-72984fd60585 button.colab-df-convert');\n",
       "      buttonEl.style.display =\n",
       "        google.colab.kernel.accessAllowed ? 'block' : 'none';\n",
       "\n",
       "      async function convertToInteractive(key) {\n",
       "        const element = document.querySelector('#df-a562bb7d-cf69-492f-a406-72984fd60585');\n",
       "        const dataTable =\n",
       "          await google.colab.kernel.invokeFunction('convertToInteractive',\n",
       "                                                    [key], {});\n",
       "        if (!dataTable) return;\n",
       "\n",
       "        const docLinkHtml = 'Like what you see? Visit the ' +\n",
       "          '<a target=\"_blank\" href=https://colab.research.google.com/notebooks/data_table.ipynb>data table notebook</a>'\n",
       "          + ' to learn more about interactive tables.';\n",
       "        element.innerHTML = '';\n",
       "        dataTable['output_type'] = 'display_data';\n",
       "        await google.colab.output.renderOutput(dataTable, element);\n",
       "        const docLink = document.createElement('div');\n",
       "        docLink.innerHTML = docLinkHtml;\n",
       "        element.appendChild(docLink);\n",
       "      }\n",
       "    </script>\n",
       "  </div>\n",
       "\n",
       "\n",
       "<div id=\"df-e6186982-2a7a-4ca6-b519-f287a2eac29c\">\n",
       "  <button class=\"colab-df-quickchart\" onclick=\"quickchart('df-e6186982-2a7a-4ca6-b519-f287a2eac29c')\"\n",
       "            title=\"Suggest charts\"\n",
       "            style=\"display:none;\">\n",
       "\n",
       "<svg xmlns=\"http://www.w3.org/2000/svg\" height=\"24px\"viewBox=\"0 0 24 24\"\n",
       "     width=\"24px\">\n",
       "    <g>\n",
       "        <path d=\"M19 3H5c-1.1 0-2 .9-2 2v14c0 1.1.9 2 2 2h14c1.1 0 2-.9 2-2V5c0-1.1-.9-2-2-2zM9 17H7v-7h2v7zm4 0h-2V7h2v10zm4 0h-2v-4h2v4z\"/>\n",
       "    </g>\n",
       "</svg>\n",
       "  </button>\n",
       "\n",
       "<style>\n",
       "  .colab-df-quickchart {\n",
       "      --bg-color: #E8F0FE;\n",
       "      --fill-color: #1967D2;\n",
       "      --hover-bg-color: #E2EBFA;\n",
       "      --hover-fill-color: #174EA6;\n",
       "      --disabled-fill-color: #AAA;\n",
       "      --disabled-bg-color: #DDD;\n",
       "  }\n",
       "\n",
       "  [theme=dark] .colab-df-quickchart {\n",
       "      --bg-color: #3B4455;\n",
       "      --fill-color: #D2E3FC;\n",
       "      --hover-bg-color: #434B5C;\n",
       "      --hover-fill-color: #FFFFFF;\n",
       "      --disabled-bg-color: #3B4455;\n",
       "      --disabled-fill-color: #666;\n",
       "  }\n",
       "\n",
       "  .colab-df-quickchart {\n",
       "    background-color: var(--bg-color);\n",
       "    border: none;\n",
       "    border-radius: 50%;\n",
       "    cursor: pointer;\n",
       "    display: none;\n",
       "    fill: var(--fill-color);\n",
       "    height: 32px;\n",
       "    padding: 0;\n",
       "    width: 32px;\n",
       "  }\n",
       "\n",
       "  .colab-df-quickchart:hover {\n",
       "    background-color: var(--hover-bg-color);\n",
       "    box-shadow: 0 1px 2px rgba(60, 64, 67, 0.3), 0 1px 3px 1px rgba(60, 64, 67, 0.15);\n",
       "    fill: var(--button-hover-fill-color);\n",
       "  }\n",
       "\n",
       "  .colab-df-quickchart-complete:disabled,\n",
       "  .colab-df-quickchart-complete:disabled:hover {\n",
       "    background-color: var(--disabled-bg-color);\n",
       "    fill: var(--disabled-fill-color);\n",
       "    box-shadow: none;\n",
       "  }\n",
       "\n",
       "  .colab-df-spinner {\n",
       "    border: 2px solid var(--fill-color);\n",
       "    border-color: transparent;\n",
       "    border-bottom-color: var(--fill-color);\n",
       "    animation:\n",
       "      spin 1s steps(1) infinite;\n",
       "  }\n",
       "\n",
       "  @keyframes spin {\n",
       "    0% {\n",
       "      border-color: transparent;\n",
       "      border-bottom-color: var(--fill-color);\n",
       "      border-left-color: var(--fill-color);\n",
       "    }\n",
       "    20% {\n",
       "      border-color: transparent;\n",
       "      border-left-color: var(--fill-color);\n",
       "      border-top-color: var(--fill-color);\n",
       "    }\n",
       "    30% {\n",
       "      border-color: transparent;\n",
       "      border-left-color: var(--fill-color);\n",
       "      border-top-color: var(--fill-color);\n",
       "      border-right-color: var(--fill-color);\n",
       "    }\n",
       "    40% {\n",
       "      border-color: transparent;\n",
       "      border-right-color: var(--fill-color);\n",
       "      border-top-color: var(--fill-color);\n",
       "    }\n",
       "    60% {\n",
       "      border-color: transparent;\n",
       "      border-right-color: var(--fill-color);\n",
       "    }\n",
       "    80% {\n",
       "      border-color: transparent;\n",
       "      border-right-color: var(--fill-color);\n",
       "      border-bottom-color: var(--fill-color);\n",
       "    }\n",
       "    90% {\n",
       "      border-color: transparent;\n",
       "      border-bottom-color: var(--fill-color);\n",
       "    }\n",
       "  }\n",
       "</style>\n",
       "\n",
       "  <script>\n",
       "    async function quickchart(key) {\n",
       "      const quickchartButtonEl =\n",
       "        document.querySelector('#' + key + ' button');\n",
       "      quickchartButtonEl.disabled = true;  // To prevent multiple clicks.\n",
       "      quickchartButtonEl.classList.add('colab-df-spinner');\n",
       "      try {\n",
       "        const charts = await google.colab.kernel.invokeFunction(\n",
       "            'suggestCharts', [key], {});\n",
       "      } catch (error) {\n",
       "        console.error('Error during call to suggestCharts:', error);\n",
       "      }\n",
       "      quickchartButtonEl.classList.remove('colab-df-spinner');\n",
       "      quickchartButtonEl.classList.add('colab-df-quickchart-complete');\n",
       "    }\n",
       "    (() => {\n",
       "      let quickchartButtonEl =\n",
       "        document.querySelector('#df-e6186982-2a7a-4ca6-b519-f287a2eac29c button');\n",
       "      quickchartButtonEl.style.display =\n",
       "        google.colab.kernel.accessAllowed ? 'block' : 'none';\n",
       "    })();\n",
       "  </script>\n",
       "</div>\n",
       "\n",
       "    </div>\n",
       "  </div>\n"
      ],
      "text/plain": [
       "   Unnamed: 0 gender  age    year eyecolor  height  miles  brothers  sisters  \\\n",
       "0        1303   male   20  second    green    73.0  210.0         0        1   \n",
       "1          36   male   20   third    other    71.0   90.0         1        0   \n",
       "2         489   male   22  fourth    hazel    75.0  200.0         0        1   \n",
       "3        1415   male   19  second    brown    72.0   35.0         2        2   \n",
       "4         616   male   22  fourth    hazel    71.0   15.0         2        1   \n",
       "\n",
       "   computertime exercise  exercisehours  musiccds  playgames  watchtv  \n",
       "0          10.0      Yes            5.0      50.0        1.0     15.0  \n",
       "1          15.0      Yes            4.0      10.0        0.0      1.0  \n",
       "2           1.0      Yes            2.0     150.0        1.0     10.0  \n",
       "3          20.0      Yes            5.0     100.0        0.0      7.0  \n",
       "4          10.0      Yes            7.0      10.0        0.0      5.0  "
      ]
     },
     "execution_count": 5,
     "metadata": {},
     "output_type": "execute_result"
    }
   ],
   "source": [
    "df_test.head()"
   ]
  },
  {
   "cell_type": "markdown",
   "metadata": {
    "id": "RGt_10ZAreOv"
   },
   "source": [
    "***\n",
    "Calculate a baseline accuracy measure using the majority class, assuming a target variable of `gender`. The majority class is the most common value of the target variable in a particular dataset."
   ]
  },
  {
   "cell_type": "code",
   "execution_count": 20,
   "metadata": {
    "colab": {
     "base_uri": "https://localhost:8080/"
    },
    "id": "iYjEFc1greOx",
    "outputId": "a1aba292-0dd4-4016-9abf-07b524ee11cc"
   },
   "outputs": [
    {
     "name": "stdout",
     "output_type": "stream",
     "text": [
      "female\n",
      "0.5427852348993288\n"
     ]
    }
   ],
   "source": [
    "majority_class_train = df_train['gender'].mode()[0]\n",
    "print(majority_class_train)\n",
    "accuracy_train = (df_train['gender'] == majority_class_train).mean()\n",
    "print(accuracy_train)"
   ]
  },
  {
   "cell_type": "markdown",
   "metadata": {
    "id": "UYI6e3F3reO0"
   },
   "source": [
    "   \n",
    "Choose a NN implementation (eg: scikit-learn) and specify which you choose. Be sure the implementation allows you to modify the number of hidden layers and hidden nodes per layer.  \n",
    "\n",
    "NOTE: When possible, specify the logsig (`sigmoid`/`logistic`) function as the transfer function (another word for activation function) and use Levenberg-Marquardt backpropagation (`lbfgs`). It is possible to specify logistic in Sklearn MLPclassifier (Neural net).  "
   ]
  },
  {
   "cell_type": "markdown",
   "metadata": {
    "id": "4am3sGc4reO1"
   },
   "source": [
    "Neural network trained with a single 10 node hidden layer. Using only the `height` feature of the dataset to predict the `gender`. Gender is one-hot encoded. Predicting the class (`gender`) using the `height` feature from the training set. "
   ]
  },
  {
   "cell_type": "code",
   "execution_count": 22,
   "metadata": {
    "colab": {
     "base_uri": "https://localhost:8080/"
    },
    "id": "jbAzltaw067l",
    "outputId": "e55d5538-0ac2-48e8-fee9-0d8caaa588c9"
   },
   "outputs": [
    {
     "name": "stdout",
     "output_type": "stream",
     "text": [
      "0.8439597315436241\n"
     ]
    }
   ],
   "source": [
    "X_train = df_train[['height']].values\n",
    "Y_train = df_train['gender'].values\n",
    "le = LabelEncoder()\n",
    "y_train = le.fit_transform(Y_train)\n",
    "scaler = StandardScaler()\n",
    "X_train_scaled = scaler.fit_transform(X_train)\n",
    "mlp = MLPClassifier(hidden_layer_sizes=(10,), activation='logistic',\n",
    "                    solver='lbfgs',max_iter=100,random_state=42)\n",
    "mlp.fit(X_train_scaled, y_train)\n",
    "y_train_prediction= mlp.predict(X_train_scaled)\n",
    "train_acc = accuracy_score(y_train, y_train_prediction)\n",
    "print(train_acc)"
   ]
  },
  {
   "cell_type": "markdown",
   "metadata": {
    "id": "AkqzIeshreO2"
   },
   "source": [
    "Taking the trained model from above and use it to predict the test set."
   ]
  },
  {
   "cell_type": "code",
   "execution_count": 23,
   "metadata": {
    "colab": {
     "base_uri": "https://localhost:8080/"
    },
    "id": "Tw25ezWp07hj",
    "outputId": "dd0bd114-0055-40c1-ba7e-2480584a5a29"
   },
   "outputs": [
    {
     "name": "stdout",
     "output_type": "stream",
     "text": [
      "0.8542713567839196\n"
     ]
    }
   ],
   "source": [
    "X_test = df_test[['height']].values\n",
    "Y_test = df_test['gender'].values\n",
    "y_test = le.transform(Y_test)\n",
    "X_test_scaled = scaler.transform(X_test)\n",
    "y_test_prediction = mlp.predict(X_test_scaled)\n",
    "test_acc = accuracy_score(y_test, y_test_prediction)\n",
    "print(test_acc)"
   ]
  },
  {
   "cell_type": "markdown",
   "metadata": {
    "id": "HbHMAFvw07hm"
   },
   "source": [
    "###ANSWER: 0.8542713567839196"
   ]
  },
  {
   "cell_type": "markdown",
   "metadata": {
    "id": "uMmIfsNEreO3"
   },
   "source": [
    "Taking the log of the `height` feature in both training and testing sets."
   ]
  },
  {
   "cell_type": "code",
   "execution_count": 24,
   "metadata": {
    "colab": {
     "base_uri": "https://localhost:8080/"
    },
    "id": "wDhCZPaU07_8",
    "outputId": "72416cb4-ae50-48d6-b9a9-143610002ce3"
   },
   "outputs": [
    {
     "name": "stdout",
     "output_type": "stream",
     "text": [
      "0.8439597315436241\n",
      "0.8542713567839196\n"
     ]
    }
   ],
   "source": [
    "X_train_log = np.log(df_train[['height']].values)\n",
    "X_test_log = np.log(df_test[['height']].values)\n",
    "mlp.fit(X_train_log, y_train)\n",
    "y_log_train_prediction = mlp.predict(X_train_log)\n",
    "y_log_test_prediction = mlp.predict(X_test_log)\n",
    "log_train_acc = accuracy_score(y_train, y_log_train_prediction)\n",
    "log_test_acc = accuracy_score(y_test, y_log_test_prediction)\n",
    "print(log_train_acc)\n",
    "print(log_test_acc)"
   ]
  },
  {
   "cell_type": "markdown",
   "metadata": {
    "id": "2_SlOdcarePC"
   },
   "source": [
    "Using only these binary variable transformed features."
   ]
  },
  {
   "cell_type": "code",
   "execution_count": 25,
   "metadata": {
    "colab": {
     "base_uri": "https://localhost:8080/"
    },
    "id": "YjhzBFNV1Aip",
    "outputId": "252fd52f-c3f6-4c2f-8585-991117e9de81"
   },
   "outputs": [
    {
     "name": "stdout",
     "output_type": "stream",
     "text": [
      "0.5527638190954773\n"
     ]
    }
   ],
   "source": [
    "categoricals = ['year', 'eyecolor', 'exercise']\n",
    "onehot_encoder = OneHotEncoder()\n",
    "X_train_cat = onehot_encoder.fit_transform(df_train[categoricals])\n",
    "X_test_cat = onehot_encoder.transform(df_test[categoricals])\n",
    "mlp_2 = MLPClassifier(hidden_layer_sizes=(10,),\n",
    "                      activation='logistic', solver='lbfgs',\n",
    "                      max_iter=50,random_state=42)\n",
    "mlp_2.fit(X_train_cat, y_train)\n",
    "y_test_pred = mlp_2.predict(X_test_cat)\n",
    "acc = accuracy_score(y_test, y_test_pred)\n",
    "print(acc)"
   ]
  },
  {
   "cell_type": "markdown",
   "metadata": {
    "id": "rMNSlOmJrePG"
   },
   "source": [
    "Accuracy on the test set using the original `height` values (no pre-processing) and `eyecolor` as a one-hot."
   ]
  },
  {
   "cell_type": "code",
   "execution_count": 26,
   "metadata": {
    "colab": {
     "base_uri": "https://localhost:8080/"
    },
    "id": "F_vN4tyv1Ckq",
    "outputId": "ef503ffd-06ac-49c2-bd6e-3827357a13ad"
   },
   "outputs": [
    {
     "name": "stdout",
     "output_type": "stream",
     "text": [
      "0.8592964824120602\n"
     ]
    }
   ],
   "source": [
    "X_train_height = df_train[['height']]\n",
    "X_test_height = df_test[['height']]\n",
    "onehot_encoder = OneHotEncoder(sparse_output=False)\n",
    "X_train_eyecolor = pd.DataFrame(onehot_encoder.fit_transform\n",
    " (df_train[['eyecolor']]),\n",
    "                                columns=onehot_encoder.get_feature_names_out\n",
    "                                 (['eyecolor']))\n",
    "X_test_eyecolor = pd.DataFrame(onehot_encoder.transform(df_test[['eyecolor']]),\n",
    "                                columns=onehot_encoder.get_feature_names_out\n",
    "                                 (['eyecolor']))\n",
    "X_train_set = pd.concat([X_train_height, X_train_eyecolor], axis = 1)\n",
    "X_test_set = pd.concat([X_test_height, X_test_eyecolor], axis = 1)\n",
    "le = LabelEncoder()\n",
    "y_train = le.fit_transform(df_train['gender'].values)\n",
    "y_test = le.transform(df_test['gender'].values)\n",
    "\n",
    "mlp_height = MLPClassifier(hidden_layer_sizes = 10, activation = 'logistic',\n",
    "                           solver = 'lbfgs', max_iter=100, random_state =42)\n",
    "mlp_height.fit(X_train_set, y_train)\n",
    "y_test_prediction_height = mlp_height.predict(X_test_set)\n",
    "height_acc = accuracy_score(y_test, y_test_prediction_height)\n",
    "print(height_acc)"
   ]
  },
  {
   "cell_type": "markdown",
   "metadata": {
    "id": "NC8Ipx9QrePH"
   },
   "source": [
    "Accuracy on the test set using the log of `height` values (applied to both training and testing sets) and `eyecolor` as a one-hot."
   ]
  },
  {
   "cell_type": "code",
   "execution_count": 27,
   "metadata": {
    "colab": {
     "base_uri": "https://localhost:8080/"
    },
    "id": "cFvzNv6O1DG3",
    "outputId": "f47af9b1-86fd-4487-e28e-9db2e0d9de5a"
   },
   "outputs": [
    {
     "name": "stdout",
     "output_type": "stream",
     "text": [
      "0.8693467336683417\n"
     ]
    }
   ],
   "source": [
    "X_train_height_log = np.log(df_train[['height']])\n",
    "X_test_height_log = np.log(df_test[['height']])\n",
    "onehot_encoder = OneHotEncoder(sparse_output=False)\n",
    "X_train_eyecolor_log = pd.DataFrame(onehot_encoder.fit_transform\n",
    " (df_train[['eyecolor']]),\n",
    "                                columns=onehot_encoder.get_feature_names_out\n",
    "                                 (['eyecolor']))\n",
    "X_test_eyecolor_log = pd.DataFrame(onehot_encoder.transform\n",
    " (df_test[['eyecolor']]),\n",
    "                                columns=onehot_encoder.get_feature_names_out\n",
    "                                 (['eyecolor']))\n",
    "X_train_set_log = pd.concat([X_train_height_log, X_train_eyecolor_log],\n",
    "                            axis = 1)\n",
    "X_test_set_log = pd.concat([X_test_height_log, X_test_eyecolor_log], axis = 1)\n",
    "le = LabelEncoder()\n",
    "y_train = le.fit_transform(df_train['gender'].values)\n",
    "y_test = le.transform(df_test['gender'].values)\n",
    "\n",
    "mlp_height_log = MLPClassifier(hidden_layer_sizes = (10,),\n",
    "                               activation = 'logistic',solver = 'lbfgs',\n",
    "                               max_iter=100, random_state =42)\n",
    "mlp_height_log.fit(X_train_set_log, y_train)\n",
    "y_test_prediction_height_log = mlp_height_log.predict(X_test_set_log)\n",
    "height_acc = accuracy_score(y_test, y_test_prediction_height_log)\n",
    "print(height_acc)"
   ]
  },
  {
   "cell_type": "markdown",
   "metadata": {
    "id": "iYm2jqnprePI"
   },
   "source": [
    "Accuracy on the test set using the Z-score of `height` values and `eyecolor` as a one-hot."
   ]
  },
  {
   "cell_type": "code",
   "execution_count": 28,
   "metadata": {
    "colab": {
     "base_uri": "https://localhost:8080/"
    },
    "id": "P3mDjF6N1DoN",
    "outputId": "7d437c55-f2a6-4a81-dda7-ccaef75ef594"
   },
   "outputs": [
    {
     "name": "stdout",
     "output_type": "stream",
     "text": [
      "0.8693467336683417\n"
     ]
    }
   ],
   "source": [
    "height_mean = df_train['height'].mean()\n",
    "height_std = df_train['height'].std()\n",
    "X_train_height_z = (df_train[['height']] - height_mean) / height_std\n",
    "X_test_height_z = (df_test[['height']] - height_mean) / height_std\n",
    "onehot_encoder = OneHotEncoder(sparse_output=False)\n",
    "X_train_eyecolor_z = pd.DataFrame(onehot_encoder.fit_transform\n",
    " (df_train[['eyecolor']]),\n",
    "                                columns=onehot_encoder.get_feature_names_out\n",
    "                                 (['eyecolor']))\n",
    "X_test_eyecolor_z = pd.DataFrame(onehot_encoder.transform\n",
    " (df_test[['eyecolor']]),\n",
    "                                columns=onehot_encoder.get_feature_names_out\n",
    "                                 (['eyecolor']))\n",
    "X_train_set_z = pd.concat([X_train_height_z, X_train_eyecolor_z], axis = 1)\n",
    "X_test_set_z = pd.concat([X_test_height_z, X_test_eyecolor_z], axis = 1)\n",
    "le = LabelEncoder()\n",
    "y_train = le.fit_transform(df_train['gender'].values)\n",
    "y_test = le.transform(df_test['gender'].values)\n",
    "\n",
    "mlp_height_z = MLPClassifier(hidden_layer_sizes = 10, activation = 'logistic',\n",
    "                           solver = 'lbfgs', max_iter=100, random_state =42)\n",
    "mlp_height_z.fit(X_train_set_z, y_train)\n",
    "y_test_prediction_height_z = mlp_height_z.predict(X_test_set_z)\n",
    "height_acc = accuracy_score(y_test, y_test_prediction_height_z)\n",
    "print(height_acc)"
   ]
  },
  {
   "cell_type": "markdown",
   "metadata": {
    "id": "Fh9qwu_9rePJ"
   },
   "source": [
    "Repeat for`watchtv` & `eyecolor`features"
   ]
  },
  {
   "cell_type": "markdown",
   "metadata": {
    "id": "1JNAa92lfMoL"
   },
   "source": [
    "Accuracy on the test set using the original `watchtv` values (no pre-processing) and `eyecolor` as a one-hot."
   ]
  },
  {
   "cell_type": "code",
   "execution_count": 29,
   "metadata": {
    "colab": {
     "base_uri": "https://localhost:8080/"
    },
    "id": "muEO6z--fL-2",
    "outputId": "41ad4f94-af8c-45b8-f5f3-cc93cceaa9c5"
   },
   "outputs": [
    {
     "name": "stdout",
     "output_type": "stream",
     "text": [
      "0.5376884422110553\n"
     ]
    }
   ],
   "source": [
    "X_train_tv = df_train[['watchtv']]\n",
    "X_test_tv = df_test[['watchtv']]\n",
    "X_train_set_tv = pd.concat([X_train_tv, X_train_eyecolor], axis = 1)\n",
    "X_test_set_tv = pd.concat([X_test_tv, X_test_eyecolor], axis = 1)\n",
    "mlp_watchtv = MLPClassifier(hidden_layer_sizes = (10,), activation = 'logistic',\n",
    "                           solver = 'lbfgs', max_iter=100, random_state =42)\n",
    "mlp_watchtv.fit(X_train_set_tv, y_train)\n",
    "y_test_prediction_tv = mlp_watchtv.predict(X_test_set_tv)\n",
    "tv_acc = accuracy_score(y_test, y_test_prediction_tv)\n",
    "print(tv_acc)"
   ]
  },
  {
   "cell_type": "markdown",
   "metadata": {
    "id": "muYeTIlYfZMy"
   },
   "source": [
    "Accuracy on the test set using the log of `watchtv` values (applied to both training and testing sets) and `eyecolor` as a one-hot."
   ]
  },
  {
   "cell_type": "code",
   "execution_count": 30,
   "metadata": {
    "colab": {
     "base_uri": "https://localhost:8080/"
    },
    "id": "JAgHz_r-1EMR",
    "outputId": "4e0cb2c6-abd0-4792-83a1-e40a17cffc83"
   },
   "outputs": [
    {
     "name": "stdout",
     "output_type": "stream",
     "text": [
      "0.5128205128205128\n"
     ]
    }
   ],
   "source": [
    "df_train_log_tv = df_train[df_train['watchtv'] > 0].copy()\n",
    "df_test_log_tv = df_test[df_test['watchtv'] > 0].copy()\n",
    "\n",
    "\n",
    "X_train_tv_log = np.log(df_train_log_tv[['watchtv']])\n",
    "X_test_tv_log = np.log(df_test_log_tv[['watchtv']])\n",
    "\n",
    "onehot_encoder = OneHotEncoder(sparse_output=False, handle_unknown ='ignore')\n",
    "X_train_eyecolor_log = pd.DataFrame(onehot_encoder.fit_transform\n",
    " (df_train_log_tv[['eyecolor']]),\n",
    "                                    columns=onehot_encoder.get_feature_names_out\n",
    "                                     (['eyecolor']))\n",
    "X_test_eyecolor_log = pd.DataFrame(onehot_encoder.transform\n",
    " (df_test_log_tv[['eyecolor']]),\n",
    "                                    columns=onehot_encoder.get_feature_names_out\n",
    "                                     (['eyecolor']))\n",
    "\n",
    "\n",
    "X_train_logtv = pd.concat([X_train_tv_log.reset_index(drop=True),\n",
    "                           X_train_eyecolor_log.reset_index(drop=True)],\n",
    "                          axis = 1)\n",
    "X_test_logtv = pd.concat([X_test_tv_log.reset_index(drop=True),\n",
    "                          X_test_eyecolor_log.reset_index(drop=True)],\n",
    "                         axis = 1)\n",
    "\n",
    "le = LabelEncoder()\n",
    "y_train_logtv = le.fit_transform(df_train_log_tv['gender'].values)\n",
    "y_test_logtv = le.transform(df_test_log_tv['gender'].values)\n",
    "\n",
    "mlp_logTV = MLPClassifier(hidden_layer_sizes=(10,),\n",
    "                          activation='logistic', solver='lbfgs',\n",
    "                          max_iter=100, random_state=42)\n",
    "mlp_logTV.fit(X_train_logtv, y_train_logtv)\n",
    "y_pred_logtv = mlp_logTV.predict(X_test_logtv)\n",
    "\n",
    "tv_log_acc = accuracy_score(y_pred_logtv, y_test_logtv)\n",
    "print(tv_log_acc)\n"
   ]
  },
  {
   "cell_type": "markdown",
   "metadata": {
    "id": "kfnP3tUOfaJ_"
   },
   "source": [
    "Accuracy on the test set using the Z-score of `watchtv` values and `eyecolor` as a one-hot."
   ]
  },
  {
   "cell_type": "code",
   "execution_count": 31,
   "metadata": {
    "colab": {
     "base_uri": "https://localhost:8080/"
    },
    "id": "d2tz0dfCfnz9",
    "outputId": "e605052f-6bc6-45a4-9f37-795fcb7168d1"
   },
   "outputs": [
    {
     "name": "stdout",
     "output_type": "stream",
     "text": [
      "0.49743589743589745\n"
     ]
    }
   ],
   "source": [
    "scaler = StandardScaler()\n",
    "X_train_tv_z = scaler.fit_transform(df_train_log_tv[['watchtv']])\n",
    "X_test_tv_z = scaler.transform(df_test_log_tv[['watchtv']])\n",
    "\n",
    "X_train_zscore = pd.concat([pd.DataFrame(X_train_tv_z, columns=['watchtv']),\n",
    "                            X_train_eyecolor_log.reset_index(drop=True)],\n",
    "                           axis = 1)\n",
    "X_test_zscore = pd.concat([pd.DataFrame(X_test_tv_z, columns=['watchtv']),\n",
    "                           X_test_eyecolor_log.reset_index(drop=True)],\n",
    "                          axis = 1)\n",
    "\n",
    "mlp_zscore= MLPClassifier(hidden_layer_sizes=(10,), activation='logistic',\n",
    "                          solver='lbfgs',max_iter=100, random_state=42)\n",
    "mlp_zscore.fit(X_train_zscore, y_train_logtv)\n",
    "\n",
    "y_pred_z = mlp_zscore.predict(X_test_zscore)\n",
    "\n",
    "\n",
    "zscore_acc_2 = accuracy_score(y_pred_z, y_test_logtv)\n",
    "print(zscore_acc_2)\n"
   ]
  },
  {
   "cell_type": "markdown",
   "metadata": {
    "id": "JYVuaPWgrePL"
   },
   "source": [
    "Combining the features(`year`, `eyecolor`, `exercise`, `height`, `watchtv`)"
   ]
  },
  {
   "cell_type": "markdown",
   "metadata": {
    "id": "1iAiFhlFrePM"
   },
   "source": [
    "NN accuracy on the test set using the single 10 node hidden layer."
   ]
  },
  {
   "cell_type": "code",
   "execution_count": 33,
   "metadata": {
    "colab": {
     "base_uri": "https://localhost:8080/"
    },
    "id": "QuLJ6sTB1FfN",
    "outputId": "b24654c0-f149-415f-a7c2-559f10fb12ae"
   },
   "outputs": [
    {
     "name": "stdout",
     "output_type": "stream",
     "text": [
      "0.8179487179487179\n"
     ]
    }
   ],
   "source": [
    "df_train_6a = df_train[df_train['watchtv'] > 0].copy()\n",
    "df_test_6a = df_test[df_test['watchtv'] > 0].copy()\n",
    "\n",
    "categoricals = ['year', 'eyecolor', 'exercise']\n",
    "onehot_encoder = OneHotEncoder(sparse_output=False)\n",
    "X_train_cat = pd.DataFrame(onehot_encoder.fit_transform\n",
    " (df_train_6a[categoricals]),\n",
    "                           columns=onehot_encoder.get_feature_names_out\n",
    "                            (categoricals))\n",
    "X_test_cat = pd.DataFrame(onehot_encoder.transform\n",
    " (df_test_6a[categoricals]),\n",
    "                          columns=onehot_encoder.get_feature_names_out\n",
    "                           (categoricals))\n",
    "\n",
    "height_scaler = StandardScaler()\n",
    "X_train_6a = pd.DataFrame(height_scaler.fit_transform(df_train_6a[['height']]),\n",
    "                          columns=['height_z'])\n",
    "X_test_6a = pd.DataFrame(height_scaler.transform(df_test_6a[['height']]),\n",
    "                         columns=['height_z'])\n",
    "\n",
    "X_train_tv_log = np.log(df_train_6a[['watchtv']])\n",
    "X_test_tv_log = np.log(df_test_6a[['watchtv']])\n",
    "\n",
    "X_train_comb = pd.concat([X_train_cat.reset_index(drop=True),\n",
    "                          X_train_6a.reset_index(drop=True),\n",
    "                          X_train_tv_log.reset_index(drop=True)], axis =1)\n",
    "\n",
    "X_test_comb = pd.concat([X_test_cat.reset_index(drop=True),\n",
    "                         X_test_6a.reset_index(drop=True),\n",
    "                         X_test_tv_log.reset_index(drop=True)], axis =1)\n",
    "\n",
    "le = LabelEncoder()\n",
    "y_train_combined = le.fit_transform(df_train_6a['gender'].values)\n",
    "y_test_combined = le.fit_transform(df_test_6a['gender'].values)\n",
    "\n",
    "mlp_comb = MLPClassifier(hidden_layer_sizes=(10,), activation='logistic',\n",
    "                         solver='lbfgs', max_iter=100, random_state=42)\n",
    "mlp_comb.fit(X_train_comb, y_train_combined)\n",
    "\n",
    "y_comb_pred = mlp_comb.predict(X_test_comb)\n",
    "combined_acc = accuracy_score(y_comb_pred, y_test_combined)\n",
    "\n",
    "print(combined_acc)"
   ]
  },
  {
   "cell_type": "markdown",
   "metadata": {
    "id": "Jusc-kofrePP"
   },
   "source": [
    "***Improving test set prediction accuracy***"
   ]
  },
  {
   "cell_type": "code",
   "execution_count": 34,
   "metadata": {
    "colab": {
     "base_uri": "https://localhost:8080/"
    },
    "id": "qvpoUdeq1GsX",
    "outputId": "2ad6ffe5-22d0-4dc9-ce46-88bc9fbec85e"
   },
   "outputs": [
    {
     "name": "stdout",
     "output_type": "stream",
     "text": [
      "0.8512820512820513\n",
      "0.033333333333333326\n"
     ]
    }
   ],
   "source": [
    "mlp_comb_bonus = MLPClassifier(hidden_layer_sizes=(50,50), activation='identity', solver='lbfgs', alpha = .0001, max_iter=50, random_state=42)\n",
    "mlp_comb_bonus.fit(X_train_comb, y_train_combined)\n",
    "\n",
    "y_comb_pred_bonus = mlp_comb_bonus.predict(X_test_comb)\n",
    "combined_acc_bonus = accuracy_score(y_comb_pred_bonus, y_test_combined)\n",
    "\n",
    "print(combined_acc_bonus)\n",
    "print(combined_acc_bonus - combined_acc)"
   ]
  },
  {
   "cell_type": "markdown",
   "metadata": {
    "id": "2rFY8D4Q1GsZ"
   },
   "source": [
    "I was able to increase the accuracy by 3.3%. I increased the hidden layer sizes from (10,) to (50,50). I changed the activation function for the hidden layer from logistic to identity. I also added an alpha term which represents the strength of L2 regularization term. I decreased the max iterations from 100 to 50. I played around with model to achieve this while making educated choices on what to change. By increasing the number of hidden layers, I allow for the representation of more complex patterns but this includes a higher risk of overfitting. To combat this, I added a L2 regularization term."
   ]
  }
 ],
 "metadata": {
  "colab": {
   "collapsed_sections": [
    "GTO2KMti07__",
    "YAnuY8Sv1DoO",
    "1foS74O01FfP"
   ],
   "provenance": []
  },
  "kernelspec": {
   "display_name": "Python 3 (ipykernel)",
   "language": "python",
   "name": "python3"
  },
  "language_info": {
   "codemirror_mode": {
    "name": "ipython",
    "version": 3
   },
   "file_extension": ".py",
   "mimetype": "text/x-python",
   "name": "python",
   "nbconvert_exporter": "python",
   "pygments_lexer": "ipython3",
   "version": "3.11.11"
  }
 },
 "nbformat": 4,
 "nbformat_minor": 4
}
